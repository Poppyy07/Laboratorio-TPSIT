{
 "cells": [
  {
   "cell_type": "markdown",
   "metadata": {},
   "source": [
    "# GUIDA BASH\n",
    "\n",
    "La bash (Bourne Again Shell) è un'evoluzione della precedente shell usata nei sistemi operativi Unix. \n",
    "Quest'ultima, a differenza delle obsoleta shell Unix, offre una sintassi leggera e comprensibile, adatta \n",
    "per lavorare con il Sistema Operativo con gran facilità. Passiamo adesso ai concetti fondamentali della \n",
    "Bash, analizzando il codice e la sintassi che possiamo usare:\n"
   ]
  },
  {
   "cell_type": "markdown",
   "metadata": {},
   "source": [
    "## Per cominciare...\n",
    " dopo aver inizializzato la Bash Shell (non in tutti i SO Linux lavoriamo con la Bash Shell direttamente, ma sue varianti\n",
    " come la csh, ksh, ecc...); ricercandola nel menu (ALT+SPACEBAR) o utilizzando la shortcut dedicata (CTRL+ALT+T); ci ritr- \n",
    " troveremo di fronte a un prompt dei comandi di questo tipo: \n",
    " \n",
    " user_name@group dir> ... \n",
    " \n",
    " Qui potremmo scrivere in maniera interattiva i comandi da eseguire nella nostra Shell. Utilizzarla in tale maniera, però, è \n",
    " come la modalità interattiva diPython, è molto limitata. Quindi, vediamo come scrivere il nostro primo script Bash. per  \n",
    " prima cosa, creiamo un file, dove scrivere i nostri comandi in serie, usando questo commando: \n"
   ]
  },
  {
   "cell_type": "code",
   "execution_count": 5,
   "metadata": {
    "scrolled": true,
    "vscode": {
     "languageId": "shellscript"
    }
   },
   "outputs": [
    {
     "name": "stderr",
     "output_type": "stream",
     "text": [
      "'vim' is not recognized as an internal or external command,\n",
      "operable program or batch file.\n"
     ]
    }
   ],
   "source": [
    "!vim main.sh"
   ]
  },
  {
   "cell_type": "markdown",
   "metadata": {},
   "source": [
    "\n",
    "dopo ciò, la prima cosa che scriviamo all'inizio del file è lo sha-bam!, scritto cosi: #!/bin/bash. Questo farà sì che \n",
    "che il nostro codice venga eseguito nella Bash Shell (visto che, come detto precedentemente, la shell su cui lavoriamo \n",
    "non è la unica shell esistente, e dipende dal SO). Possiamo adesso lavorare più facilmente con le variabili di sistema, \n",
    "comandi, ecc... Non faremo un ripasso a riguardo di tali commandi (ovviamente), visto che sono gli stessi che usiamo per \n",
    "navigare in Linux. Passiamo quindi direttamente alla programmazione di questa Bash Shell.      "
   ]
  },
  {
   "cell_type": "markdown",
   "metadata": {},
   "source": [
    "## Variabili\n",
    "\n",
    "lo durante lesecuzione del codice. ecco alcuni esempi: \n",
    "\n",
    "    - Var1=\"String\"\n",
    "    - Var1=5 \n",
    "    - Var1=true \n",
    "\n",
    "per dichiarare un array, invece, possiamo utilizzare la sintassi generica: declare -A VarArray  (altrimenti, se volessimo \n",
    "dichiararlo e inizializzarlo subito, scriveremo: VarArray = [1 2 3]). Per poterlo inizializzare un valore, basterà richiamare \n",
    "VarArray[index]=val. Tra altre strutture che variabili in bash possono essere dichiarate facilmente semplicemente scrivendo: \n",
    "\n",
    "    - il loro nome (a) \n",
    "    - l'uguale (=) \n",
    "    - il valore da assegnare (5). \n",
    "    \n",
    "Un esempio potrebbe essere \"b=5\" (fare molta attenzione agli spazi). Da ricordare che le variabili in bash non sono\n",
    "\"verbose\", e quindi possono cambiare il proprio tipe possiamo poi utilizzare, troviamo le variabili di sistema.\n",
    "Ecco alcuni esempi:\n",
    "\n",
    "    - $HOME \n",
    "    - $PATH \n",
    "    - $JAVA_HOME \n",
    "\n",
    "Queste variabili verrano richiamate senza essere inizializzate. !IMPORTANTE, per poter richiamare una variabile in bash dovremmo \n",
    "utilizzare il simbolo del ($) piu il nome della variabile. Un ultima struttura dati importante da analizzare sono le HashMap. Questo tipo di costrutto di alto livello si basa su un sistema \"chiave\":\"valore\", molto utile durante certe operazioni. La sua dichiarazione \n",
    "è la segunete:      \n"
   ]
  },
  {
   "cell_type": "code",
   "execution_count": 15,
   "metadata": {
    "vscode": {
     "languageId": "shellscript"
    }
   },
   "outputs": [
    {
     "name": "stderr",
     "output_type": "stream",
     "text": [
      "'declare' is not recognized as an internal or external command,\n",
      "operable program or batch file.\n",
      "'HashMap' is not recognized as an internal or external command,\n",
      "operable program or batch file.\n"
     ]
    }
   ],
   "source": [
    "!declare -A HashMap\n",
    "!HashMap = ( [\"key_1\"]=\"value_1\" [\"key_2\"]=\"value_2\")"
   ]
  },
  {
   "cell_type": "markdown",
   "metadata": {},
   "source": [
    "\n",
    "Questo tipo di dichiarazione, pero, può essere utilizzato con le versioni superiori a BASH 4. Adesso elecheremo,\n",
    "per Array e HashMap, le operazioni che potremmo eseguire su quest'ultimi:  \n",
    "\n",
    "    - Array = (\"uno\" \"due\" \"tre\" \"quattro\") \n",
    "    - declare -A HashMap = ( [\"key_1\"]=\"value_1\", [\"key_2\"]=\"value_2\", ...)\n",
    "    \n",
    "    - {#Array[@]}\t\t         -> ritorna la lunghezza dell'array <br/>\n",
    "    - {#HashMap[@]}\t             -> ritorna la lunghezza dell'HashMap <br/><br/>\n",
    "    \n",
    "    - {Array[0]}\t\t      -> ritorna l'elemento in posizione <pos> <br/>\n",
    "    - {Hashmap[0]}\t          -> ritorna l'elemento in posizione <pos> <br/><br/>\n",
    "    \n",
    "    - Array[0]=value\t          -> cambia il valore nell'array in posizone <pos> <br/>\n",
    "    - HashMap[\"key_1\"]=value\t  -> cambia la chiave nell'HashMap <br/><br/>\n",
    "    \n",
    "    - Array+=( \"value\" )\t\t\t     -> aggiungi un elemento nell'Array <br/>\n",
    "    - HashMap[\"key_3\"]=\"value_3\"\t\t -> aggiungi una nuova \"chiave\":\"valore\" <br/><br/>\n",
    "    \n",
    "    - unset -v Array[0]\t\t         -> elimina un elemento nell'Array <br/>\n",
    "    - unset HashMap[\"key_3\"] \t\t -> elimina un \"chiave\":\"valore\" <br/><br/>\n",
    "    \n",
    "    - {Array[@]}\t\t     -> elenca tutti gli elementi nell'Array <br/>\n",
    "    - {HashMap[@]}\t\t     -> elenca tutti i valori nell'HashMap <br/><br/>\n",
    "  "
   ]
  },
  {
   "cell_type": "markdown",
   "metadata": {},
   "source": [
    "## Operazioni\n",
    "in bash, gli operatori si suddividono in: \n",
    "\n",
    "    - aritmetici \n",
    "    - condizionali\n",
    "    - bitwise\n",
    "\n",
    "per quando riguarda gli operatori aritmetici, in primis, tali operazioni dovranno essere contenute in: \\<dollaro>(( A <opcode> B )). \n",
    "In questo modose devo incremententare una variabile, basterà scrivere \\<dollaro>(( x++ )). Le operazioni che possiamo svolgere sono: \n",
    "\n",
    "    - addizione (+)\n",
    "    - sottrazione (-)\n",
    "    - divisione (/)\n",
    "    - moltiplicazione (*) \n",
    "    - modulo (%)\n",
    "\n",
    "Per salvare il risultato in una terza variabile, basterà inserire un \"=\" all'interno delle tonde [ es. \\<dollaro>(( 3+5=var )) ]. Come detto precedentemente, non bisogna lasciare spazi bianchi durante la dichiarazione delle variabili. Per quando riguarda gli operatori condizionali, si suddividono in due categorie: \n",
    "condizionali su stringhe e condizionali su numeri. \n",
    "Per quando riguarda i condizionali su stringhe, questi sono i classici operatori operatori di confronto:\n",
    "\n",
    "    - maggiore (>) \n",
    "    - maggiore o uguale (>=) \n",
    "    - minore(<) \n",
    "    - minore o uguale(<=) \n",
    "    - uguale (==)\n",
    "    - non uguale (!=)\n",
    "\n",
    "Se tali operazioni devono pero essere eseguiti su numeri, allora gli operatori usati sono molto simili a quelli del FORTRAN:\n",
    "    \n",
    "     - gt (maggiore)\n",
    "     - ge (maggiore o uguale)\n",
    "     - lt (minore) \n",
    "     - le (minore  uguale) \n",
    "     - eq (uguale)\n",
    "     - ne (non uguale)\n",
    "     \n",
    "A differenza delle stringhe, dove il confronto verrà fatto in tale maniera:\n",
    "\n",
    "     - [[ \"STR_1\" <opcode> \"STR_2\" ]]; then\t...\n",
    "\n",
    "per i numeri, bisognera scrivere:\n",
    "\n",
    "     - [[ {INT_1} <opcode buffo> ${INT_2} ]]; then\t...\n",
    "   \n",
    "possiamo anche concatenare queste operazioni aritmetiche usando gli operatori booleani, come: \n",
    "\n",
    "     - && (AND)\n",
    "     - || (OR)\n",
    "     - ! (NOT)\n",
    "\n",
    "Per finire, per quanto riguarda per gli operatori bitwise, sono operatori che lavorano \"bit a bit\", e che possono essere \n",
    "utilizzati per svolgere operazioni a livello binario (il nome stesso di bitwise vuol dire \"bit a bit\"). Gli operatori che\n",
    "possiamo utilizzare in questo caso sono:\n",
    "\n",
    "     - & (and binario)\n",
    "     - | (or binario)\n",
    "     - ! (not binario)\n",
    "     - ^ (xor binario)\n",
    "     - >> (shift destro) \n",
    "     - << (shift sinistro). \n",
    "     \n",
    "Questi operatori, a differenza degli altri, vengono utilizzati raramente. Vediamo una loro applicazione:\n",
    "\n",
    "     - SWAP VARIABILI:     \n",
    "         ${VAR 1}^=${VAR 2}\n",
    "         ${VAR 2}^=${VAR 1}\n",
    "         ${VAR 1}^=${VAR 1}        "
   ]
  },
  {
   "cell_type": "markdown",
   "metadata": {
    "jp-MarkdownHeadingCollapsed": true
   },
   "source": [
    "## Blocchi Condizionali\n",
    "\n",
    "Un altro argomento molto importante che dobbiamo trattare in bash sono i blocchi condizionali. Adesso, prima di approfondire, andiamo a vedere l'utilizzo di certe variabili speciali. Ciacuna di essere è preceduta dal simbolo del dollaro. In bash esistono una serie di variabili \"speciali\" che sono rappresentate da \\<num o car>. Da  1 a {...}, per esempio, abbiamo i parametri passati all'interno di un programma. Con \\# possiamo stampare il numero di parametri passati allo script. Con 0 ricaviamo invece il nome dello script, ma con \\? invece, salviamo il valore booleano (true o false) dell'ultima operazione da noi eseguita. Se svolgessero un'operazione di test, per esempio: \n",
    "\n",
    "    [ ${INT_1} -le ${INT_2} ]; \n",
    "    \n",
    "Il risultato sarà salvato in questa variabile speciale. Adesso, se noi vogliamo scrivere un `if` ben formato, lo dobbiamo però scrivere con tale sintassi: \n",
    "\n",
    "    if [[ ${INT_1} -le ${INT_2} ]]; then\n",
    "        ... \n",
    "    else if[[ <condition> ]]; then \n",
    "        ... \n",
    "    else  \n",
    "        ... \n",
    "    fi \n",
    "    \n",
    "Non andiamo infatti ad utilizzare una singola parentesi quadra, in quanto vogliamo fare in modo che venga eseguita l'operazione di test e che venga subito valutata. `fi` alla fine serve per chiudere il blocco condizionale (opposto dell'if). Un altro costrutto condizionale importante, invece, è lo `SWITCH`. Come funziona lo `switch`? Differentemente da un `if...else`, lo `switch` controlla il valore aritmetico di una variabile, e successivamente decide quale operazione eseguire tra i \"casi disponibili\". Perché \"casi\"? Vediamo un esempio di uno `switch`: \n",
    "\n",
    "    case ${INT_VAR} in \n",
    "    case 1) \n",
    "            ...\n",
    "    case 2) \n",
    "            ...\n",
    "    case *) \n",
    "            ...\n",
    "        ;; \n",
    "    esac \n",
    "    \n",
    "Ognuno dei numeri che si trovano dopo `case` rappresentano un valore possibile che può assumere \\${INT_VAR}. Per quanto riguarda l'asterisco (`*`), viene utilizzato come caso di default (nel caso in cui \\${INT_VAR} non assuma nessuno dei valori precedentemente posti). Con un doppio `;;` rappresentiamo invece la fine del comando (un \"break\" negli `switch...case` nei linguaggi di alto livello, come Java).\n"
   ]
  },
  {
   "cell_type": "markdown",
   "metadata": {},
   "source": [
    "## Cicli iterativi\n",
    "\n",
    "Un qualcosa di altrettanto importante sono invece i cicli iterativi. A differenza dei blocchi condizionali, come dice il nome, i cicli operativi ci permettono di eseguire operazioni \"cicliche\" su determinate variabili, (come, per esempio, se necessitiamo di seguire un controllo su tutti gli elementi di un array). Adesso,  quali sono i principali cicli iterativi? Vediamoli:  \n",
    "    \n",
    "- FOR \n",
    "il ciclo for, in bash, può essere utilizzato in tre modi differenti. Che si voglia far riferimento ad un iterazione-ad-indice: \n",
    "    \n",
    "        for(( x = <val>; x <cond>; x <inc o dec> )) do \n",
    "           ... \n",
    "        done \n",
    "\n",
    "        o ad un iterazione a sequenza: \n",
    "\n",
    "        for x in seq(1..10) do              for x in ${1..10} do \n",
    "            ...                                  ... \n",
    "        done                                 done \n",
    "    \n",
    "- WHILE and UNTIL \n",
    "il ciclo while, invece, ha un solo modo di utilizzo. Il suo compito è quello di svolgere iterazioni finché tale &condizione risulta\n",
    "esser vera:\n",
    "\n",
    "        while [ ${condition} ] do \n",
    "              ... \n",
    "        done \n",
    "\n",
    "    d'altra parte, con until l'iterazione del ciclo andrà avanti finché la condizione espressa sarà falsa: \n",
    "\n",
    "        until [ ${condition} ] do  \n",
    "            ... \n",
    "        done        "
   ]
  },
  {
   "cell_type": "markdown",
   "metadata": {},
   "source": [
    "## Funzioni\n",
    "\n",
    "\n",
    "per finire, nel bash possiamo andare a creare anche delle nostre funzioni personalizzate. La possibili sintassi saranno: \n",
    "\n",
    "        \n",
    "        function func_name() { \n",
    "            ...\n",
    "        } \n",
    "        \n",
    "        func_name() {\n",
    "            ...\n",
    "        }\n",
    "        \n",
    "il loro funzionamento sarà identico. All'interno di queste possiamo lavorare come se stessimo eseguendo un altro script. Unica cosa, se volessimo utilizzare  delle variabili in locale, dovremmo dichiare ed inizializzare quest'ultime con l'uso local \\<var_name>=\\<val>. i parametri al suo interno potranno poi essere passati attraverso le variabili speciali di sistema ( \\<dollaro>\\<numero>) Se necessitiamo, come i linguaggi di alto  livello, possiamo utilizzare anche il \"return\"per ritornare determinati valori dalla funzione, ma non essendo verbose bash, non ha limiti sulle  variabili passate ne su come queste debbano essere ritornate. \n",
    "\n"
   ]
  },
  {
   "cell_type": "code",
   "execution_count": null,
   "metadata": {},
   "outputs": [],
   "source": []
  }
 ],
 "metadata": {
  "kernelspec": {
   "display_name": "Python [conda env:base] *",
   "language": "python",
   "name": "conda-base-py"
  },
  "language_info": {
   "codemirror_mode": {
    "name": "ipython",
    "version": 3
   },
   "file_extension": ".py",
   "mimetype": "text/x-python",
   "name": "python",
   "nbconvert_exporter": "python",
   "pygments_lexer": "ipython3",
   "version": "3.12.7"
  }
 },
 "nbformat": 4,
 "nbformat_minor": 4
}
